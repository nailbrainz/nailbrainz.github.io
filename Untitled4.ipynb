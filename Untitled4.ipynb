{
  "nbformat": 4,
  "nbformat_minor": 0,
  "metadata": {
    "colab": {
      "name": "Untitled4.ipynb",
      "version": "0.3.2",
      "provenance": [],
      "collapsed_sections": []
    },
    "kernelspec": {
      "name": "python3",
      "display_name": "Python 3"
    }
  },
  "cells": [
    {
      "cell_type": "markdown",
      "metadata": {
        "id": "view-in-github",
        "colab_type": "text"
      },
      "source": [
        "[View in Colaboratory](https://colab.research.google.com/github/nailbrainz/nailbrainz.github.io/blob/b1/Untitled4.ipynb)"
      ]
    },
    {
      "metadata": {
        "id": "3FI8e4yKCt3V",
        "colab_type": "text"
      },
      "cell_type": "markdown",
      "source": [
        "Number data types are immutable (int, float, complex,...)"
      ]
    },
    {
      "metadata": {
        "id": "UBo4txgDCsrs",
        "colab_type": "code",
        "colab": {
          "base_uri": "https://localhost:8080/",
          "height": 34
        },
        "outputId": "3cce88a6-8740-4760-cb4d-af26109097d6"
      },
      "cell_type": "code",
      "source": [
        "a = 1.3\n",
        "print(id(a))"
      ],
      "execution_count": 2,
      "outputs": [
        {
          "output_type": "stream",
          "text": [
            "140682619234872\n"
          ],
          "name": "stdout"
        }
      ]
    },
    {
      "metadata": {
        "id": "KfOYHRXnDFhs",
        "colab_type": "code",
        "colab": {
          "base_uri": "https://localhost:8080/",
          "height": 34
        },
        "outputId": "74069d60-0f41-40dd-ef92-bdae8a47126b"
      },
      "cell_type": "code",
      "source": [
        "a = 2.3\n",
        "print(id(a))"
      ],
      "execution_count": 3,
      "outputs": [
        {
          "output_type": "stream",
          "text": [
            "140682557047120\n"
          ],
          "name": "stdout"
        }
      ]
    },
    {
      "metadata": {
        "id": "IYWE4MENDOrc",
        "colab_type": "text"
      },
      "cell_type": "markdown",
      "source": [
        "(Remember that, `id()` returns the memory address of instance (in most pythons, including recent JPython))"
      ]
    }
  ]
}